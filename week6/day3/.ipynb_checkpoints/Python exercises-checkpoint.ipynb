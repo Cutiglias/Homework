{
 "cells": [
  {
   "cell_type": "markdown",
   "metadata": {},
   "source": [
    "## Champernowne's Championship\n",
    "\n",
    "Ho ho! So you think you know integers, do you? Well then, young wizard, tell us what the Nth digit of the Champernowne constant is!\n",
    "\n",
    "The constant proceeds like this: 0.12345678910111213141516...\n",
    "\n",
    "I hope you see the pattern!\n",
    "\n",
    "Conjure a function that will accept an integer, n, and return the (one-indexed) nth digit of Champernowne's constant. Can you get it to run in constant time?\n",
    "\n",
    "For example:\n",
    "\n",
    "`n = 1` should return `0` (the very first digit)\n",
    "\n",
    "`n = 2` should return `1` (we ignore the period character since it's not a digit!)\n",
    "\n",
    "`n = 20` should return `4` (that's the 4 in the number 14, 20th in sequence)\n",
    "\n",
    "For any invalid values, such as 0 and below, or non-integers, return... NaN!\n",
    "\n",
    "I hope (for your sake) that you've been practicing your mathemagical spells, because a naïve solution will not be fast enough to compete in this championship!\n",
    "\n",
    "Invoke with precision, and be wary of rounding errors in the realms of enormity!\n",
    "\n",
    "May the best integer win!"
   ]
  },
  {
   "cell_type": "code",
   "execution_count": 16,
   "metadata": {
    "collapsed": true
   },
   "outputs": [],
   "source": [
    "import sys\n",
    "def champernowneDigit(n):\n",
    "    a = \"\"\n",
    "    for i in range(666666):\n",
    "        a = a + str(i)\n",
    "    try:\n",
    "        return int(a[n-1])\n",
    "    except IndexError:\n",
    "        sys.exit()"
   ]
  },
  {
   "cell_type": "markdown",
   "metadata": {},
   "source": [
    "### Scraping: Codewars Top 500 Users\n",
    "\n",
    "You should get and parse the html of the codewars leaderboard page.\n",
    "\n",
    "You can use Nokogiri(Ruby) or BeautifulSoup(Python) or CheerioJS(Javascript).\n",
    "For Javascript: Return a Promise resolved with your 'Leaderboard' Object!\n",
    "\n",
    "You must meet the following criteria:\n",
    "\n",
    "Return a 'Leaderboard' object with a position property.\n",
    "\n",
    "```\n",
    "Leaderboard#position should contain 500 'User' objects.\n",
    "Leaderboard#position[i] should return the ith ranked User(1 based index).\n",
    "```\n",
    "\n",
    "Each User should have the following properties:\n",
    "```\n",
    "User#name    # => the user's username, not their real name\n",
    "User#clan    # => the user's clan, empty string if empty clan field\n",
    "User#honor   # => the user's honor points as an integer\n",
    "```\n",
    "\n",
    "Ex:\n",
    "```\n",
    "  an_alien = leaderboard.position[3]   # => #<User:0x3124da0 @name=\"myjinxin2015\", @clan=\"China Changyuan\", @honor=21446>\n",
    "  an_alien.name                        # => \"myjinxin2015\"\n",
    "  an_alien.clan                        # => \"China Changyuan\"\n",
    "  an_alien.honor                       # => 21446\n",
    "```"
   ]
  },
  {
   "cell_type": "code",
   "execution_count": null,
   "metadata": {
    "collapsed": true
   },
   "outputs": [],
   "source": []
  }
 ],
 "metadata": {
  "anaconda-cloud": {},
  "kernelspec": {
   "display_name": "Python [conda root]",
   "language": "python",
   "name": "conda-root-py"
  },
  "language_info": {
   "codemirror_mode": {
    "name": "ipython",
    "version": 2
   },
   "file_extension": ".py",
   "mimetype": "text/x-python",
   "name": "python",
   "nbconvert_exporter": "python",
   "pygments_lexer": "ipython2",
   "version": "2.7.12"
  }
 },
 "nbformat": 4,
 "nbformat_minor": 1
}
