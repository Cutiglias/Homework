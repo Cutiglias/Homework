{
 "cells": [
  {
   "cell_type": "markdown",
   "metadata": {},
   "source": [
    "## Probabilities for Sums in Rolling Cubic Dice\n",
    "\n",
    "When we throw 2 classical dice (values on each side from 1 to 6) we have 36 (6 * 6) different results.\n",
    "\n",
    "We want to know the probability of having the sum of the results equals to `11`. For that result we have only the combination of `6` and `5`. So we will have two events: {5, 6} and {6, 5}\n",
    "\n",
    "So the probability for that result will be:\n",
    "\n",
    "```\n",
    "P(11, 2) = 2/(6*6) = 1/18    (The two is because we have 2 dice)\n",
    "```\n",
    "\n",
    "Now, we want to calculate the probability of having the sum equals to 8. The combinations for that result will be the following: {4,4}, {3,5}, {5,3}, {2,6}, {6,2} with a total of five combinations.\n",
    "\n",
    "```\n",
    "P(8, 2) = 5/36\n",
    "```\n",
    "\n",
    "Things may be more complicated if we have more dices and sum values higher.\n",
    "\n",
    "We want to know the probability of having the sum equals to `8` but having `3` dice.\n",
    "\n",
    "Now the combinations and corresponding events are:\n",
    "\n",
    "```\n",
    "{2,3,3}, {3,2,3}, {3,3,2}\n",
    "{2,2,4}, {2,4,2}, {4,2,2}\n",
    "{1,3,4}, {1,4,3}, {3,1,4}, {4,1,3}, {3,4,1}, {4,3,1}\n",
    "{1,2,5}, {1,5,2}, {2,1,5}, {5,1,2}, {2,5,1}, {5,2,1}\n",
    "{1,1,6}, {1,6,1}, {6,1,1}\n",
    "\n",
    "A total amount of 21 different combinations\n",
    "\n",
    "So the probability is:\n",
    "P(8, 3) = 21/(6*6*6) = 0.09722222222222222\n",
    "```\n",
    "\n",
    "Summarizing the cases we have seen with a function that receives the two arguments\n",
    "\n",
    "```\n",
    "rolldice_sum_prob(11, 2) == 0.0555555555 # or 1/18\n",
    "\n",
    "rolldice_sum_prob(8, 2) ==  0.13888888889# or 5/36\n",
    "\n",
    "rolldice_sum_prob(8, 3) == 0.0972222222222  # or 7/72\n",
    "```\n",
    "\n",
    "And think why we have this result:\n",
    "\n",
    "```\n",
    "rolldice_sum_prob(22, 3) == 0\n",
    "```\n",
    "\n",
    "Create the function rolldice_sum_prob() for this calculation.\n",
    "\n",
    "Have a nice time!\n",
    "\n"
   ]
  },
  {
   "cell_type": "code",
   "execution_count": 1,
   "metadata": {
    "collapsed": true
   },
   "outputs": [],
   "source": [
    "def rolldice_sum_prob(sum_, dice_amount):\n",
    "    # your code here\n",
    "    return prob       "
   ]
  },
  {
   "cell_type": "code",
   "execution_count": null,
   "metadata": {
    "collapsed": true
   },
   "outputs": [],
   "source": []
  }
 ],
 "metadata": {
  "anaconda-cloud": {},
  "kernelspec": {
   "display_name": "Python [conda root]",
   "language": "python",
   "name": "conda-root-py"
  },
  "language_info": {
   "codemirror_mode": {
    "name": "ipython",
    "version": 2
   },
   "file_extension": ".py",
   "mimetype": "text/x-python",
   "name": "python",
   "nbconvert_exporter": "python",
   "pygments_lexer": "ipython2",
   "version": "2.7.12"
  }
 },
 "nbformat": 4,
 "nbformat_minor": 1
}
