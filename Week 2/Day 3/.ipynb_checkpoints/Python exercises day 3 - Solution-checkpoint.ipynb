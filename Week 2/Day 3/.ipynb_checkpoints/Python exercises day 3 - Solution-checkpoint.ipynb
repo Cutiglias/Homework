{
 "cells": [
  {
   "cell_type": "markdown",
   "metadata": {},
   "source": [
    "## Credit card issuer checking\n",
    "\n",
    "Given a credit card number we can determine who the issuer/vendor is with a few basic knowns.\n",
    "\n",
    "Complete the function getIssuer() that will use the values shown below to determine the card issuer for a given card number. If the number cannot be matched then the function should return the string Unknown.\n",
    "\n",
    "\n",
    "<img src=\"resources/card_issuer.png\" style=\"width: 400px\" >\n",
    "\n",
    "### Examples\n",
    "\n",
    "```\n",
    "getIssuer(4111111111111111) == \"VISA\"\n",
    "getIssuer(4111111111111) == \"VISA\"\n",
    "getIssuer(4012888888881881) == \"VISA\"\n",
    "getIssuer(378282246310005) == \"AMEX\"\n",
    "getIssuer(6011111111111117) == \"Discover\"\n",
    "getIssuer(5105105105105100) == \"Mastercard\"\n",
    "getIssuer(5105105105105106) == \"Mastercard\"\n",
    "getIssuer(9111111111111111) == \"Unknown\"\n",
    "```"
   ]
  },
  {
   "cell_type": "code",
   "execution_count": 1,
   "metadata": {
    "collapsed": false
   },
   "outputs": [],
   "source": [
    "#insert your code here\n",
    "def get_issuer(number):\n",
    "    s = str(number)\n",
    "    return (\"AMEX\"       if len(s)==15 and s[:2] in (\"34\",\"37\") else\n",
    "            \"Discover\"   if len(s)==16 and s.startswith(\"6011\") else\n",
    "            \"Mastercard\" if len(s)==16 and s[0]==\"5\" and s[1] in \"12345\" else\n",
    "            \"VISA\"       if len(s) in [13,16] and s[0]=='4' else\n",
    "            \"Unknown\")"
   ]
  },
  {
   "cell_type": "code",
   "execution_count": 2,
   "metadata": {
    "collapsed": true
   },
   "outputs": [],
   "source": [
    "def get_issuer(number):\n",
    "    card = str(number)\n",
    "    nums = len(card)\n",
    "    \n",
    "    if card[:2] in (\"34\", \"37\") and nums == 15:\n",
    "        return \"AMEX\"\n",
    "    elif card[:4] == \"6011\" and nums == 16:\n",
    "        return \"Discover\"\n",
    "    elif 51 <= int(card[:2]) <= 55 and nums == 16:\n",
    "        return \"Mastercard\"\n",
    "    elif card[0] == \"4\" and nums in (13, 16):\n",
    "        return \"VISA\"\n",
    "    return \"Unknown\""
   ]
  },
  {
   "cell_type": "markdown",
   "metadata": {},
   "source": [
    "## Credit Card Mask\n",
    "\n",
    "Usually when you buy something, you're asked whether your credit card number, phone number or answer to your most secret question is still correct. However, since someone could look over your shoulder, you don't want that shown on your screen. Instead, we mask it.\n",
    "\n",
    "Your task is to write a function maskify, which changes all but the last four characters into '#'.\n",
    "\n",
    "### Examples\n",
    "\n",
    "```\n",
    "maskify(\"4556364607935616\") == \"############5616\"\n",
    "maskify(     \"64607935616\") ==      \"#######5616\"\n",
    "maskify(               \"1\") ==                \"1\"\n",
    "maskify(                \"\") ==                 \"\"\n",
    "\n",
    "# \"What was the name of your first pet?\"\n",
    "maskify(\"Skippy\")                                   == \"##ippy\"\n",
    "maskify(\"Nananananananananananananananana Batman!\") == \"####################################man!\"\n",
    "```"
   ]
  },
  {
   "cell_type": "code",
   "execution_count": 26,
   "metadata": {
    "collapsed": true
   },
   "outputs": [],
   "source": [
    "# return masked string\n",
    "def maskify(cc):\n",
    "    return \"#\"*(len(cc)-4) + cc[-4:]"
   ]
  },
  {
   "cell_type": "code",
   "execution_count": 8,
   "metadata": {
    "collapsed": false
   },
   "outputs": [],
   "source": [
    "import re\n",
    "def maskify(cc):\n",
    "    return re.sub(\"[0-9aA-zZ]\", '#', cc[:(len(cc)-4)])+cc[-4:]"
   ]
  },
  {
   "cell_type": "code",
   "execution_count": 10,
   "metadata": {
    "collapsed": false
   },
   "outputs": [
    {
     "data": {
      "text/plain": [
       "'###############DASD'"
      ]
     },
     "execution_count": 10,
     "metadata": {},
     "output_type": "execute_result"
    }
   ],
   "source": [
    "maskify('asdasdasdasdaASDASD')"
   ]
  },
  {
   "cell_type": "code",
   "execution_count": 27,
   "metadata": {
    "collapsed": true
   },
   "outputs": [],
   "source": [
    "# return masked string\n",
    "def maskify(cc):\n",
    "    word = list(str(cc))\n",
    "    #loop through the list except the last 4 index's this will also prevent\n",
    "    #the loop from running for anything less than 5 index's long\n",
    "    for i in range(len(word) - 4):\n",
    "        word[i] = '#'\n",
    "    #join and return the list\n",
    "    return ''.join(word)\n",
    "    pass"
   ]
  },
  {
   "cell_type": "markdown",
   "metadata": {},
   "source": [
    "## Find the missing letter\n",
    "\n",
    "Write a method that takes an array of consecutive (increasing) letters as input and that returns the missing letter in the array.\n",
    "\n",
    "You will always get an valid array. And it will be always exactly one letter be missing. The length of the array will always be at least 2.\n",
    "The array will always contain letters in only one case.\n",
    "\n",
    "Example:\n",
    "\n",
    "```\n",
    "['a','b','c','d','f'] -> 'e'\n",
    "['O','Q','R','S'] -> 'P'\n",
    "\n",
    "```"
   ]
  },
  {
   "cell_type": "code",
   "execution_count": 5,
   "metadata": {
    "collapsed": true
   },
   "outputs": [],
   "source": [
    "#write your solution here\n",
    "def find_missing_letter(chars):\n",
    "    n = 0\n",
    "    while ord(chars[n]) == ord(chars[n+1]) - 1:\n",
    "        n += 1\n",
    "    return chr(1+ord(chars[n]))\n"
   ]
  },
  {
   "cell_type": "code",
   "execution_count": 6,
   "metadata": {
    "collapsed": false
   },
   "outputs": [],
   "source": [
    "#write your solution here\n",
    "def find_missing_letter(chars):\n",
    "    import string\n",
    "    if chars[0].islower():\n",
    "        alph = list(string.ascii_lowercase)\n",
    "    else:\n",
    "        alph = list(string.ascii_uppercase)\n",
    "    x = 0\n",
    "    for i,j in zip(alph, range(len(alph))):\n",
    "        if i == chars[0]:\n",
    "            x = j\n",
    "    y = x + len(chars) \n",
    "    \n",
    "    for i,j in zip(alph[x:y], chars):\n",
    "        if i != j:\n",
    "            return i"
   ]
  },
  {
   "cell_type": "code",
   "execution_count": null,
   "metadata": {
    "collapsed": true
   },
   "outputs": [],
   "source": []
  }
 ],
 "metadata": {
  "anaconda-cloud": {},
  "kernelspec": {
   "display_name": "Python [conda root]",
   "language": "python",
   "name": "conda-root-py"
  },
  "language_info": {
   "codemirror_mode": {
    "name": "ipython",
    "version": 2
   },
   "file_extension": ".py",
   "mimetype": "text/x-python",
   "name": "python",
   "nbconvert_exporter": "python",
   "pygments_lexer": "ipython2",
   "version": "2.7.12"
  }
 },
 "nbformat": 4,
 "nbformat_minor": 1
}
